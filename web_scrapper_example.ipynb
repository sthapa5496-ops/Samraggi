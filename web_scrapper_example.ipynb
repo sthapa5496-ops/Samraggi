{
  "nbformat": 4,
  "nbformat_minor": 0,
  "metadata": {
    "colab": {
      "provenance": [],
      "authorship_tag": "ABX9TyPLl+JldDvOLg2v3vqtOpud",
      "include_colab_link": true
    },
    "kernelspec": {
      "name": "python3",
      "display_name": "Python 3"
    },
    "language_info": {
      "name": "python"
    }
  },
  "cells": [
    {
      "cell_type": "markdown",
      "metadata": {
        "id": "view-in-github",
        "colab_type": "text"
      },
      "source": [
        "<a href=\"https://colab.research.google.com/github/sthapa5496-ops/Samraggi/blob/main/web_scrapper_example.ipynb\" target=\"_parent\"><img src=\"https://colab.research.google.com/assets/colab-badge.svg\" alt=\"Open In Colab\"/></a>"
      ]
    },
    {
      "cell_type": "code",
      "source": [
        "import requests\n",
        "from bs4 import BeautifulSoup\n",
        "import json\n",
        "from google.colab import files\n",
        "\n",
        "url = \"https://supreme.justia.com/cases/federal/us/year/2025.html\"\n",
        "\n",
        "response = requests.get(url)\n",
        "soup = BeautifulSoup(response.content, 'html.parser')\n",
        "\n",
        "# Correct selector for all case blocks\n",
        "case_blocks = soup.select(\"div.results > div\")\n",
        "\n",
        "print(f\"Found {len(case_blocks)} case blocks.\")\n",
        "\n",
        "cases = []\n",
        "\n",
        "for case in case_blocks:\n",
        "    try:\n",
        "        # Case title and URL\n",
        "        a = case.find(\"a\")\n",
        "        title = a.get_text(strip=True) if a else \"\"\n",
        "        case_url = a['href'] if a else \"\"\n",
        "        if case_url.startswith(\"/\"):\n",
        "            case_url = \"https://supreme.justia.com\" + case_url\n",
        "\n",
        "        # Docket number\n",
        "        docket = case.find(\"strong\")\n",
        "        docket_number = docket.get_text(strip=True) if docket else \"\"\n",
        "\n",
        "        # Date\n",
        "        date_el = case.find(\"time\")\n",
        "        date = date_el.get_text(strip=True) if date_el else \"\"\n",
        "\n",
        "        # Justia summary\n",
        "        summary_el = case.find(\"div\", class_=\"summary\")\n",
        "        summary = summary_el.get_text(strip=True) if summary_el else \"\"\n",
        "\n",
        "        case_data = {\n",
        "            \"case_title\": title,\n",
        "            \"docket_number\": docket_number,\n",
        "            \"court\": \"US Supreme Court\",\n",
        "            \"date\": date,\n",
        "            \"case_url\": case_url,\n",
        "            \"justia_summary\": summary,\n",
        "            \"bias_analysis_summary\": {}\n",
        "        }\n",
        "        cases.append(case_data)\n",
        "    except Exception as e:\n",
        "        print(\"Error parsing case:\", e)\n",
        "\n",
        "# Save JSON\n",
        "with open(\"supreme_court_2025_cases.json\", \"w\", encoding=\"utf-8\") as f:\n",
        "    json.dump({\"cases\": cases}, f, ensure_ascii=False, indent=2)\n",
        "\n",
        "print(f\"Saved {len(cases)} cases to supreme_court_2025_cases.json\")\n",
        "\n",
        "# Download\n",
        "files.download(\"supreme_court_2025_cases.json\")\n"
      ],
      "metadata": {
        "colab": {
          "base_uri": "https://localhost:8080/",
          "height": 51
        },
        "id": "JW2d70ID7Ogk",
        "outputId": "eeeab7e7-c953-48b6-c3fd-c93dffcb71a4"
      },
      "execution_count": 6,
      "outputs": [
        {
          "output_type": "stream",
          "name": "stdout",
          "text": [
            "Found 63 case blocks.\n",
            "Saved 63 cases to supreme_court_2025_cases.json\n"
          ]
        },
        {
          "output_type": "display_data",
          "data": {
            "text/plain": [
              "<IPython.core.display.Javascript object>"
            ],
            "application/javascript": [
              "\n",
              "    async function download(id, filename, size) {\n",
              "      if (!google.colab.kernel.accessAllowed) {\n",
              "        return;\n",
              "      }\n",
              "      const div = document.createElement('div');\n",
              "      const label = document.createElement('label');\n",
              "      label.textContent = `Downloading \"${filename}\": `;\n",
              "      div.appendChild(label);\n",
              "      const progress = document.createElement('progress');\n",
              "      progress.max = size;\n",
              "      div.appendChild(progress);\n",
              "      document.body.appendChild(div);\n",
              "\n",
              "      const buffers = [];\n",
              "      let downloaded = 0;\n",
              "\n",
              "      const channel = await google.colab.kernel.comms.open(id);\n",
              "      // Send a message to notify the kernel that we're ready.\n",
              "      channel.send({})\n",
              "\n",
              "      for await (const message of channel.messages) {\n",
              "        // Send a message to notify the kernel that we're ready.\n",
              "        channel.send({})\n",
              "        if (message.buffers) {\n",
              "          for (const buffer of message.buffers) {\n",
              "            buffers.push(buffer);\n",
              "            downloaded += buffer.byteLength;\n",
              "            progress.value = downloaded;\n",
              "          }\n",
              "        }\n",
              "      }\n",
              "      const blob = new Blob(buffers, {type: 'application/binary'});\n",
              "      const a = document.createElement('a');\n",
              "      a.href = window.URL.createObjectURL(blob);\n",
              "      a.download = filename;\n",
              "      div.appendChild(a);\n",
              "      a.click();\n",
              "      div.remove();\n",
              "    }\n",
              "  "
            ]
          },
          "metadata": {}
        },
        {
          "output_type": "display_data",
          "data": {
            "text/plain": [
              "<IPython.core.display.Javascript object>"
            ],
            "application/javascript": [
              "download(\"download_84f68bd8-0ecc-4959-b874-8c12c3bb9014\", \"supreme_court_2025_cases.json\", 20247)"
            ]
          },
          "metadata": {}
        }
      ]
    },
    {
      "cell_type": "code",
      "source": [],
      "metadata": {
        "id": "_uQUlpk67OXX"
      },
      "execution_count": null,
      "outputs": []
    },
    {
      "cell_type": "markdown",
      "source": [],
      "metadata": {
        "id": "_x-n9k0p7OGw"
      }
    }
  ]
}